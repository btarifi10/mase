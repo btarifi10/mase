{
 "cells": [
  {
   "cell_type": "code",
   "execution_count": 1,
   "metadata": {},
   "outputs": [
    {
     "name": "stderr",
     "output_type": "stream",
     "text": [
      "\u001b[32mINFO    \u001b[0m \u001b[34mSet logging level to info\u001b[0m\n"
     ]
    }
   ],
   "source": [
    "import sys\n",
    "import logging\n",
    "import os\n",
    "from pathlib import Path\n",
    "from pprint import pprint as pp\n",
    "\n",
    "# figure out the correct path\n",
    "machop_path = Path(\".\").resolve().parent.parent /\"machop\"\n",
    "assert machop_path.exists(), \"Failed to find machop at: {}\".format(machop_path)\n",
    "sys.path.append(str(machop_path))\n",
    "\n",
    "from chop.tools.checkpoint_load import load_model\n",
    "from chop.dataset import MaseDataModule, get_dataset_info\n",
    "from chop.tools.logger import set_logging_verbosity\n",
    "\n",
    "from chop.passes.graph.analysis import (\n",
    "    report_node_meta_param_analysis_pass,\n",
    "    profile_statistics_analysis_pass,\n",
    ")\n",
    "from chop.passes.graph import (\n",
    "    add_common_metadata_analysis_pass,\n",
    "    init_metadata_analysis_pass,\n",
    "    add_software_metadata_analysis_pass,\n",
    ")\n",
    "from chop.tools.get_input import InputGenerator\n",
    "from chop.ir.graph.mase_graph import MaseGraph\n",
    "\n",
    "from chop.models import get_model_info, get_model\n",
    "\n",
    "set_logging_verbosity(\"info\")\n"
   ]
  },
  {
   "cell_type": "code",
   "execution_count": 2,
   "metadata": {},
   "outputs": [],
   "source": [
    "\n",
    "batch_size = 512\n",
    "model_name = \"jsc-tiny\"\n",
    "dataset_name = \"jsc\"\n",
    "\n",
    "data_module = MaseDataModule(\n",
    "    name=dataset_name,\n",
    "    batch_size=batch_size,\n",
    "    model_name=model_name,\n",
    "    num_workers=0,\n",
    "    # custom_dataset_cache_path=\"../../chop/dataset\"\n",
    ")\n",
    "data_module.prepare_data()\n",
    "data_module.setup()\n",
    "\n",
    "dataset_info = get_dataset_info(dataset_name)\n",
    "\n",
    "model_info = get_model_info(model_name)\n",
    "\n",
    "input_generator = InputGenerator(\n",
    "    data_module=data_module,\n",
    "    model_info=model_info,\n",
    "    task=\"cls\",\n",
    "    which_dataloader=\"train\",\n",
    "    max_batches=1\n",
    ")\n",
    "\n",
    "dummy_in = next(iter(input_generator))\n",
    "\n",
    "model = get_model(\n",
    "    model_name,\n",
    "    task=\"cls\",\n",
    "    dataset_info=dataset_info,\n",
    "    pretrained=False,\n",
    "    checkpoint = None\n",
    ")\n",
    "\n",
    "\n",
    "# LAB1_CUSTOM_PATH = \"/home/bkt123/dev/advanced-deep-learning-systems/mase/mase_output/lab-1_jsc-custom/software/training_ckpts/best.ckpt\"\n",
    "# model = load_model(load_name=LAB1_CUSTOM_PATH, load_type=\"pl\", model=model)"
   ]
  },
  {
   "cell_type": "code",
   "execution_count": 9,
   "metadata": {},
   "outputs": [],
   "source": [
    "from chop.actions.search.search_space import IterativePruningSpace\n",
    "\n",
    "search_config = {\n",
    "    \"search_config\": {\n",
    "        \"prune_config\": {\n",
    "            \"num_iterations\": [1, 3, 5],\n",
    "            \"scope\": [\"global\", \"local\"],\n",
    "            \"granularity\": [\"elementwise\", \"channel\"],\n",
    "            \"method\": [\"l1-norm\"],\n",
    "            \"sparsity\": [0.3, 0.5, 0.7, 0.9]\n",
    "        },\n",
    "        \"train_config\": {\n",
    "            \"max_epochs\": [5],\n",
    "            \"optimizer\": [\"adam\"],\n",
    "            \"learning_rate\": [1e-3],\n",
    "        }\n",
    "    },\n",
    "    \"model_config\": {\n",
    "        \"dataset\": \"jsc\",\n",
    "        \"model\": \"jsc-tiny\",\n",
    "        \"task\": \"cls\",\n",
    "        \"batch_size\": 256,\n",
    "    }\n",
    "}\n",
    "\n",
    "search_space = IterativePruningSpace(\n",
    "    model=model,\n",
    "    model_info=model_info,\n",
    "    config = search_config,\n",
    "    dummy_input={},\n",
    "    accelerator=\"auto\"\n",
    ")\n",
    "\n",
    "search_space.build_search_space()\n"
   ]
  },
  {
   "cell_type": "code",
   "execution_count": 10,
   "metadata": {},
   "outputs": [
    {
     "data": {
      "text/plain": [
       "{'prune_config/num_iterations': [1, 3, 5],\n",
       " 'prune_config/scope': ['global', 'local'],\n",
       " 'prune_config/granularity': ['elementwise', 'channel'],\n",
       " 'prune_config/method': ['l1-norm'],\n",
       " 'prune_config/sparsity': [0.3, 0.5, 0.7, 0.9],\n",
       " 'train_config/max_epochs': [5],\n",
       " 'train_config/optimizer': ['adam'],\n",
       " 'train_config/learning_rate': [0.001],\n",
       " 'name': ['accuracy'],\n",
       " 'data_loader': ['train_dataloader'],\n",
       " 'num_samples': [100000],\n",
       " 'num_warmup_steps': [0]}"
      ]
     },
     "execution_count": 10,
     "metadata": {},
     "output_type": "execute_result"
    }
   ],
   "source": [
    "search_space.choices_flattened"
   ]
  }
 ],
 "metadata": {
  "kernelspec": {
   "display_name": "mase",
   "language": "python",
   "name": "python3"
  },
  "language_info": {
   "codemirror_mode": {
    "name": "ipython",
    "version": 3
   },
   "file_extension": ".py",
   "mimetype": "text/x-python",
   "name": "python",
   "nbconvert_exporter": "python",
   "pygments_lexer": "ipython3",
   "version": "3.11.4"
  }
 },
 "nbformat": 4,
 "nbformat_minor": 2
}

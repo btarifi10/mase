{
 "cells": [
  {
   "cell_type": "code",
   "execution_count": 17,
   "metadata": {},
   "outputs": [
    {
     "name": "stderr",
     "output_type": "stream",
     "text": [
      "\u001b[32mINFO    \u001b[0m \u001b[34mSet logging level to info\u001b[0m\n"
     ]
    }
   ],
   "source": [
    "import sys\n",
    "import logging\n",
    "import os\n",
    "from pathlib import Path\n",
    "from pprint import pprint as pp\n",
    "\n",
    "# figure out the correct path\n",
    "machop_path = Path(\".\").resolve().parent.parent /\"machop\"\n",
    "assert machop_path.exists(), \"Failed to find machop at: {}\".format(machop_path)\n",
    "sys.path.append(str(machop_path))\n",
    "\n",
    "from chop.tools.checkpoint_load import load_model\n",
    "from chop.dataset import MaseDataModule, get_dataset_info\n",
    "from chop.tools.logger import set_logging_verbosity\n",
    "\n",
    "from chop.passes.graph.analysis import (\n",
    "    report_node_meta_param_analysis_pass,\n",
    "    profile_statistics_analysis_pass,\n",
    ")\n",
    "from chop.passes.graph import (\n",
    "    add_common_metadata_analysis_pass,\n",
    "    init_metadata_analysis_pass,\n",
    "    add_software_metadata_analysis_pass,\n",
    ")\n",
    "from chop.tools.get_input import InputGenerator\n",
    "from chop.ir.graph.mase_graph import MaseGraph\n",
    "\n",
    "from chop.models import get_model_info, get_model\n",
    "\n",
    "set_logging_verbosity(\"info\")\n"
   ]
  },
  {
   "cell_type": "code",
   "execution_count": 26,
   "metadata": {},
   "outputs": [],
   "source": [
    "batch_size = 256\n",
    "model_name = \"jsc-tiny\"\n",
    "dataset_name = \"jsc\"\n",
    "\n",
    "data_module = MaseDataModule(\n",
    "    name=dataset_name,\n",
    "    batch_size=batch_size,\n",
    "    model_name=model_name,\n",
    "    num_workers=0,\n",
    "    # custom_dataset_cache_path=\"../../chop/dataset\"\n",
    ")\n",
    "data_module.prepare_data()\n",
    "data_module.setup()\n",
    "\n",
    "model_info = get_model_info(model_name)\n",
    "model = get_model(\n",
    "    model_name,\n",
    "    task=\"cls\",\n",
    "    dataset_info=data_module.dataset_info,\n",
    "    pretrained=False,\n",
    "    checkpoint = None)\n",
    "\n",
    "# LAB1_CUSTOM_PATH = \"/home/bkt123/dev/advanced-deep-learning-systems/mase/mase_output/lab-1_jsc-custom/software/training_ckpts/best.ckpt\"\n",
    "# model = load_model(load_name=LAB1_CUSTOM_PATH, load_type=\"pl\", model=model)\n",
    "\n",
    "input_generator = InputGenerator(\n",
    "    data_module=data_module,\n",
    "    model_info=model_info,\n",
    "    task=\"cls\",\n",
    "    which_dataloader=\"train\",\n",
    "    max_batches=1\n",
    ")\n",
    "\n",
    "dummy_in = next(iter(input_generator))\n",
    "_ = model(**dummy_in)\n",
    "\n",
    "# generate the mase graph and initialize node metadata\n",
    "mg = MaseGraph(model=model)"
   ]
  },
  {
   "cell_type": "code",
   "execution_count": 27,
   "metadata": {},
   "outputs": [
    {
     "name": "stderr",
     "output_type": "stream",
     "text": [
      "GPU available: False, used: False\n",
      "TPU available: False, using: 0 TPU cores\n",
      "IPU available: False, using: 0 IPUs\n",
      "HPU available: False, using: 0 HPUs\n"
     ]
    },
    {
     "name": "stderr",
     "output_type": "stream",
     "text": [
      "\n",
      "  | Name      | Type               | Params\n",
      "-------------------------------------------------\n",
      "0 | model     | GraphModule        | 85    \n",
      "1 | loss_fn   | CrossEntropyLoss   | 0     \n",
      "2 | acc_train | MulticlassAccuracy | 0     \n",
      "3 | acc_val   | MulticlassAccuracy | 0     \n",
      "4 | acc_test  | MulticlassAccuracy | 0     \n",
      "5 | loss_val  | MeanMetric         | 0     \n",
      "6 | loss_test | MeanMetric         | 0     \n",
      "-------------------------------------------------\n",
      "85        Trainable params\n",
      "0         Non-trainable params\n",
      "85        Total params\n",
      "0.000     Total estimated model params size (MB)\n"
     ]
    },
    {
     "data": {
      "application/vnd.jupyter.widget-view+json": {
       "model_id": "06487937438048319a080e0d7474b5a7",
       "version_major": 2,
       "version_minor": 0
      },
      "text/plain": [
       "Sanity Checking: |          | 0/? [00:00<?, ?it/s]"
      ]
     },
     "metadata": {},
     "output_type": "display_data"
    },
    {
     "name": "stderr",
     "output_type": "stream",
     "text": [
      "/home/bkt123/anaconda3/envs/mase/lib/python3.11/site-packages/pytorch_lightning/trainer/connectors/data_connector.py:441: The 'val_dataloader' does not have many workers which may be a bottleneck. Consider increasing the value of the `num_workers` argument` to `num_workers=47` in the `DataLoader` to improve performance.\n",
      "/home/bkt123/anaconda3/envs/mase/lib/python3.11/site-packages/pytorch_lightning/trainer/connectors/data_connector.py:441: The 'train_dataloader' does not have many workers which may be a bottleneck. Consider increasing the value of the `num_workers` argument` to `num_workers=47` in the `DataLoader` to improve performance.\n"
     ]
    },
    {
     "data": {
      "application/vnd.jupyter.widget-view+json": {
       "model_id": "aa9b3a80fd6d49c8893a8d848bc45dcd",
       "version_major": 2,
       "version_minor": 0
      },
      "text/plain": [
       "Training: |          | 0/? [00:00<?, ?it/s]"
      ]
     },
     "metadata": {},
     "output_type": "display_data"
    },
    {
     "data": {
      "application/vnd.jupyter.widget-view+json": {
       "model_id": "c877cdb2b7504d40afd67c04599f20a7",
       "version_major": 2,
       "version_minor": 0
      },
      "text/plain": [
       "Validation: |          | 0/? [00:00<?, ?it/s]"
      ]
     },
     "metadata": {},
     "output_type": "display_data"
    },
    {
     "name": "stderr",
     "output_type": "stream",
     "text": [
      "`Trainer.fit` stopped: `max_epochs=1` reached.\n"
     ]
    }
   ],
   "source": [
    "from chop.actions import train\n",
    "import torch\n",
    "\n",
    "# print(isinstance(mg.model, torch.nn.Module))\n",
    "\n",
    "model = mg.model\n",
    "model_info = get_model_info('jsc-tiny')\n",
    "dataset_info = get_dataset_info('jsc')\n",
    "task = \"cls\"\n",
    "\n",
    "train_params = {\n",
    "    \"model\": model,\n",
    "    \"model_info\": model_info,\n",
    "    \"data_module\": data_module,\n",
    "    \"dataset_info\": dataset_info,\n",
    "    \"task\": task,\n",
    "    \"optimizer\": \"adam\",\n",
    "    \"learning_rate\": 1e-3,\n",
    "    \"weight_decay\": 0,\n",
    "    \"plt_trainer_args\": {\n",
    "        \"max_epochs\": 1,\n",
    "    }, \n",
    "    \"auto_requeue\": False,\n",
    "    \"save_path\": None,\n",
    "    \"visualizer\": None,\n",
    "    \"load_name\": None,\n",
    "    \"load_type\": None\n",
    "}\n",
    "\n",
    "train(**train_params)"
   ]
  },
  {
   "cell_type": "code",
   "execution_count": 29,
   "metadata": {},
   "outputs": [
    {
     "name": "stdout",
     "output_type": "stream",
     "text": [
      "seq_blocks_0\n",
      "--------------------------------------------------\n",
      "Parameter containing:\n",
      "tensor([[-0.0305, -0.1776, -0.8128,  0.7068, -1.0469, -0.0561,  0.2084,  0.1563,\n",
      "         -0.1131,  0.0229,  0.3239, -0.0969,  0.1206,  0.0612,  0.4346,  1.3277],\n",
      "        [ 0.7038,  0.0915, -0.5083, -0.5458, -0.0991, -0.0290, -0.1112, -0.0947,\n",
      "          0.1561,  0.2029,  0.4555, -0.3466,  0.3300, -0.3184, -0.6688, -0.7392],\n",
      "        [ 0.1082,  0.3417,  0.2082, -1.2965,  0.4872, -0.5560, -0.0635, -0.4345,\n",
      "          0.0452, -0.2312,  0.2072, -0.3086,  0.3945, -0.1742,  0.1094, -1.2876],\n",
      "        [-0.0452, -0.0084,  0.5183, -0.8814,  0.2036, -0.9909, -0.2197, -0.1152,\n",
      "          0.2549,  0.0219, -0.0409,  0.0456,  0.1760, -0.2004,  0.8417, -1.1798],\n",
      "        [-0.1375,  0.2932,  0.6886,  0.2977,  0.3908,  0.3663, -0.2447,  0.2614,\n",
      "         -0.4381, -0.3118, -0.3304,  0.3036, -0.3149,  0.2821, -0.1607,  0.0280]],\n",
      "       requires_grad=True)\n",
      "--------------------------------------------------\n"
     ]
    }
   ],
   "source": [
    "from pprint import pprint\n",
    "\n",
    "from chop.passes.graph.utils import get_mase_op\n",
    "\n",
    "mg, _ = init_metadata_analysis_pass(mg, None)\n",
    "mg, _ = add_common_metadata_analysis_pass(mg, {\"dummy_in\": dummy_in})\n",
    "mg, _ = add_software_metadata_analysis_pass(mg, None)\n",
    "\n",
    "# pprint(mg.meta['mase'].__dict__)\n",
    "\n",
    "for node in mg.fx_graph.nodes:\n",
    "    if get_mase_op(node) == 'linear':\n",
    "        print(node.name)\n",
    "        print(50*'-')\n",
    "        # print(node.meta['mase'].parameters['common']['args']['data_in_0']['value'])\n",
    "        # print(node.meta['mase'].parameters['common']['args']['data_in_0']['value'])\n",
    "        # print(node.meta['mase'].parameters['common']['args']['weight']['value'])\n",
    "        # print(node.meta['mase'].parameters['common']['results']['data_out_0']['value'])\n",
    "        pprint(mg.modules[node.target].weight)\n",
    "        print(50*'-')"
   ]
  },
  {
   "cell_type": "code",
   "execution_count": 30,
   "metadata": {},
   "outputs": [],
   "source": [
    "from chop.passes.graph.transforms import (\n",
    "    prune_transform_pass,\n",
    "   \n",
    ")\n",
    "pass_args = {\n",
    "    \"weight\":{\n",
    "        \"scope\" : \"global\",\n",
    "        \"granularity\" : \"elementwise\",\n",
    "        \"method\" :  \"l1-norm\",\n",
    "        \"sparsity\" : 0.5,},\n",
    "    \"activation\":{\n",
    "        \"scope\" : \"global\",\n",
    "        \"granularity\" : \"elementwise\",\n",
    "        \"method\" : \"l1-norm\",\n",
    "        \"sparsity\" : 0.5,\n",
    "    },\n",
    "}\n",
    " \n",
    "mg, _ = prune_transform_pass(mg, pass_args)\n"
   ]
  },
  {
   "cell_type": "code",
   "execution_count": 31,
   "metadata": {},
   "outputs": [
    {
     "name": "stdout",
     "output_type": "stream",
     "text": [
      "seq_blocks_0\n",
      "--------------------------------------------------\n",
      "tensor([[-0.0000, -0.0000, -0.8128,  0.7068, -1.0469, -0.0000,  0.0000,  0.0000,\n",
      "         -0.0000,  0.0000,  0.3239, -0.0000,  0.0000,  0.0000,  0.4346,  1.3277],\n",
      "        [ 0.7038,  0.0000, -0.5083, -0.5458, -0.0000, -0.0000, -0.0000, -0.0000,\n",
      "          0.0000,  0.0000,  0.4555, -0.3466,  0.3300, -0.3184, -0.6688, -0.7392],\n",
      "        [ 0.0000,  0.3417,  0.0000, -1.2965,  0.4872, -0.5560, -0.0000, -0.4345,\n",
      "          0.0000, -0.0000,  0.0000, -0.3086,  0.3945, -0.0000,  0.0000, -1.2876],\n",
      "        [-0.0000, -0.0000,  0.5183, -0.8814,  0.0000, -0.9909, -0.0000, -0.0000,\n",
      "          0.0000,  0.0000, -0.0000,  0.0000,  0.0000, -0.0000,  0.8417, -1.1798],\n",
      "        [-0.0000,  0.2932,  0.6886,  0.2977,  0.3908,  0.3663, -0.0000,  0.2614,\n",
      "         -0.4381, -0.3118, -0.3304,  0.3036, -0.3149,  0.2821, -0.0000,  0.0000]],\n",
      "       grad_fn=<MulBackward0>)\n",
      "tensor([[False, False,  True,  True,  True, False, False, False, False, False,\n",
      "          True, False, False, False,  True,  True],\n",
      "        [ True, False,  True,  True, False, False, False, False, False, False,\n",
      "          True,  True,  True,  True,  True,  True],\n",
      "        [False,  True, False,  True,  True,  True, False,  True, False, False,\n",
      "         False,  True,  True, False, False,  True],\n",
      "        [False, False,  True,  True, False,  True, False, False, False, False,\n",
      "         False, False, False, False,  True,  True],\n",
      "        [False,  True,  True,  True,  True,  True, False,  True,  True,  True,\n",
      "          True,  True,  True,  True, False, False]])\n",
      "--------------------------------------------------\n"
     ]
    }
   ],
   "source": [
    "from pprint import pprint\n",
    "\n",
    "from chop.passes.graph.utils import get_mase_op\n",
    "\n",
    "# pprint(mg.meta['mase'].__dict__)\n",
    "\n",
    "for node in mg.fx_graph.nodes:\n",
    "    if get_mase_op(node) == 'linear':\n",
    "        print(node.name)\n",
    "        print(50*'-')\n",
    "        # pprint(node.meta['mase'].parameters['common'])\n",
    "        # pprint(node.meta['mase'].parameters['common']['args']['data_in_0']['value'])\n",
    "        # pprint(node.meta['mase'].parameters['common']['args']['weight']['value'])\n",
    "        pprint(mg.modules[node.target].weight)\n",
    "        pprint(mg.modules[node.target].parametrizations['weight'][0].mask)\n",
    "        # pprint(node.meta['mase'].parameters['common']['results']['data_out_0']['value'])\n",
    "        print(50*'-')\n"
   ]
  },
  {
   "cell_type": "code",
   "execution_count": 32,
   "metadata": {},
   "outputs": [
    {
     "name": "stderr",
     "output_type": "stream",
     "text": [
      "GPU available: False, used: False\n",
      "TPU available: False, using: 0 TPU cores\n",
      "IPU available: False, using: 0 IPUs\n",
      "HPU available: False, using: 0 HPUs\n"
     ]
    },
    {
     "name": "stderr",
     "output_type": "stream",
     "text": [
      "\n",
      "  | Name      | Type               | Params\n",
      "-------------------------------------------------\n",
      "0 | model     | GraphModule        | 85    \n",
      "1 | loss_fn   | CrossEntropyLoss   | 0     \n",
      "2 | acc_train | MulticlassAccuracy | 0     \n",
      "3 | acc_val   | MulticlassAccuracy | 0     \n",
      "4 | acc_test  | MulticlassAccuracy | 0     \n",
      "5 | loss_val  | MeanMetric         | 0     \n",
      "6 | loss_test | MeanMetric         | 0     \n",
      "-------------------------------------------------\n",
      "85        Trainable params\n",
      "0         Non-trainable params\n",
      "85        Total params\n",
      "0.000     Total estimated model params size (MB)\n"
     ]
    },
    {
     "data": {
      "application/vnd.jupyter.widget-view+json": {
       "model_id": "42c279ce1d624847937e6fe9e07c6b04",
       "version_major": 2,
       "version_minor": 0
      },
      "text/plain": [
       "Sanity Checking: |          | 0/? [00:00<?, ?it/s]"
      ]
     },
     "metadata": {},
     "output_type": "display_data"
    },
    {
     "name": "stderr",
     "output_type": "stream",
     "text": [
      "/home/bkt123/anaconda3/envs/mase/lib/python3.11/site-packages/pytorch_lightning/trainer/connectors/data_connector.py:441: The 'val_dataloader' does not have many workers which may be a bottleneck. Consider increasing the value of the `num_workers` argument` to `num_workers=47` in the `DataLoader` to improve performance.\n",
      "/home/bkt123/anaconda3/envs/mase/lib/python3.11/site-packages/pytorch_lightning/trainer/connectors/data_connector.py:441: The 'train_dataloader' does not have many workers which may be a bottleneck. Consider increasing the value of the `num_workers` argument` to `num_workers=47` in the `DataLoader` to improve performance.\n"
     ]
    },
    {
     "data": {
      "application/vnd.jupyter.widget-view+json": {
       "model_id": "ce8f1bd2c990418f93dad3c8c612bb7b",
       "version_major": 2,
       "version_minor": 0
      },
      "text/plain": [
       "Training: |          | 0/? [00:00<?, ?it/s]"
      ]
     },
     "metadata": {},
     "output_type": "display_data"
    },
    {
     "data": {
      "application/vnd.jupyter.widget-view+json": {
       "model_id": "f977a0c0a96e4525ab5da31c3721c964",
       "version_major": 2,
       "version_minor": 0
      },
      "text/plain": [
       "Validation: |          | 0/? [00:00<?, ?it/s]"
      ]
     },
     "metadata": {},
     "output_type": "display_data"
    },
    {
     "name": "stderr",
     "output_type": "stream",
     "text": [
      "`Trainer.fit` stopped: `max_epochs=1` reached.\n"
     ]
    }
   ],
   "source": [
    "from chop.actions import train\n",
    "import torch\n",
    "\n",
    "# print(isinstance(mg.model, torch.nn.Module))\n",
    "\n",
    "model = mg.model\n",
    "model_info = get_model_info('jsc-tiny')\n",
    "dataset_info = get_dataset_info('jsc')\n",
    "task = \"cls\"\n",
    "\n",
    "train_params = {\n",
    "    \"model\": model,\n",
    "    \"model_info\": model_info,\n",
    "    \"data_module\": data_module,\n",
    "    \"dataset_info\": dataset_info,\n",
    "    \"task\": task,\n",
    "    \"optimizer\": \"adam\",\n",
    "    \"learning_rate\": 1e-3,\n",
    "    \"weight_decay\": 0,\n",
    "    \"plt_trainer_args\": {\n",
    "        \"max_epochs\": 1,\n",
    "    }, \n",
    "    \"auto_requeue\": False,\n",
    "    \"save_path\": None,\n",
    "    \"visualizer\": None,\n",
    "    \"load_name\": None,\n",
    "    \"load_type\": None\n",
    "}\n",
    "\n",
    "train(**train_params)"
   ]
  },
  {
   "cell_type": "code",
   "execution_count": 33,
   "metadata": {},
   "outputs": [
    {
     "name": "stdout",
     "output_type": "stream",
     "text": [
      "seq_blocks_0\n",
      "--------------------------------------------------\n",
      "tensor([[-0.0000, -0.0000, -1.6369,  0.5552, -0.7419, -0.0000,  0.0000,  0.0000,\n",
      "         -0.0000,  0.0000,  0.7397, -0.0000,  0.0000,  0.0000,  0.7932,  1.3671],\n",
      "        [ 0.8332,  0.0000, -0.4090, -1.0126, -0.0000, -0.0000, -0.0000, -0.0000,\n",
      "          0.0000,  0.0000,  0.6031, -0.1658,  0.4106, -0.2976, -0.7187, -1.2277],\n",
      "        [ 0.0000,  0.0189,  0.0000, -0.1738,  0.2096, -1.7474, -0.0000, -0.3942,\n",
      "          0.0000, -0.0000,  0.0000, -0.0905,  0.3919, -0.0000,  0.0000, -1.5387],\n",
      "        [-0.0000, -0.0000,  0.2736, -0.5186,  0.0000, -1.3009, -0.0000, -0.0000,\n",
      "          0.0000,  0.0000, -0.0000,  0.0000,  0.0000, -0.0000,  0.2842, -1.3053],\n",
      "        [-0.0000,  0.1588,  1.3117, -0.0839,  0.2535,  0.0833, -0.0000,  0.2678,\n",
      "         -0.4250, -0.1340, -0.2888,  0.2900, -0.3746,  0.2911, -0.0000,  0.0000]],\n",
      "       grad_fn=<MulBackward0>)\n",
      "tensor([[False, False,  True,  True,  True, False, False, False, False, False,\n",
      "          True, False, False, False,  True,  True],\n",
      "        [ True, False,  True,  True, False, False, False, False, False, False,\n",
      "          True,  True,  True,  True,  True,  True],\n",
      "        [False,  True, False,  True,  True,  True, False,  True, False, False,\n",
      "         False,  True,  True, False, False,  True],\n",
      "        [False, False,  True,  True, False,  True, False, False, False, False,\n",
      "         False, False, False, False,  True,  True],\n",
      "        [False,  True,  True,  True,  True,  True, False,  True,  True,  True,\n",
      "          True,  True,  True,  True, False, False]])\n",
      "--------------------------------------------------\n"
     ]
    }
   ],
   "source": [
    "from pprint import pprint\n",
    "\n",
    "from chop.passes.graph.utils import get_mase_op\n",
    "\n",
    "\n",
    "# pprint(mg.meta['mase'].__dict__)\n",
    "\n",
    "for node in mg.fx_graph.nodes:\n",
    "    if get_mase_op(node) == 'linear':\n",
    "        print(node.name)\n",
    "        print(50*'-')\n",
    "        # pprint(node.meta['mase'].parameters['common'])\n",
    "        # pprint(node.meta['mase'].parameters['common']['args']['data_in_0']['value'])\n",
    "        # pprint(node.meta['mase'].parameters['common']['args']['weight']['value'])\n",
    "        pprint(mg.modules[node.target].weight)\n",
    "        pprint(mg.modules[node.target].parametrizations['weight'][0].mask)\n",
    "        # pprint(node.meta['mase'].parameters['common']['results']['data_out_0']['value'])\n",
    "\n",
    "        print(50*'-')"
   ]
  }
 ],
 "metadata": {
  "kernelspec": {
   "display_name": "mase",
   "language": "python",
   "name": "python3"
  },
  "language_info": {
   "codemirror_mode": {
    "name": "ipython",
    "version": 3
   },
   "file_extension": ".py",
   "mimetype": "text/x-python",
   "name": "python",
   "nbconvert_exporter": "python",
   "pygments_lexer": "ipython3",
   "version": "3.11.4"
  }
 },
 "nbformat": 4,
 "nbformat_minor": 2
}
